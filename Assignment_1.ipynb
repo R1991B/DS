{
  "nbformat": 4,
  "nbformat_minor": 0,
  "metadata": {
    "colab": {
      "name": "Untitled2.ipynb",
      "provenance": [],
      "collapsed_sections": []
    },
    "kernelspec": {
      "name": "python3",
      "display_name": "Python 3"
    },
    "language_info": {
      "name": "python"
    }
  },
  "cells": [
    {
      "cell_type": "code",
      "execution_count": 9,
      "metadata": {
        "colab": {
          "base_uri": "https://localhost:8080/"
        },
        "id": "nQBseq7cgmgp",
        "outputId": "4f7c6e04-4ce9-479b-c6ce-f5e7dd3d0171"
      },
      "outputs": [
        {
          "output_type": "stream",
          "name": "stdout",
          "text": [
            "Enter marks : 45\n",
            "Student grade is 'A'\n"
          ]
        }
      ],
      "source": [
        "#grade of students\n",
        "marks = float(input(\"Enter marks : \"))\n",
        "if marks >= 40:\n",
        "  print(\"Student grade is 'A'\")\n",
        "else:\n",
        "  print(\"Student grade is 'B'\")"
      ]
    },
    {
      "cell_type": "code",
      "source": [
        "#Even Numbers\n",
        "Snum = 30\n",
        "Lnum = 50\n",
        "print(\"Even Numbers: \")\n",
        "while Snum <= Lnum:\n",
        "  if (Snum % 2 == 0):\n",
        "    print(Snum)\n",
        "  Snum += 1\n"
      ],
      "metadata": {
        "colab": {
          "base_uri": "https://localhost:8080/"
        },
        "id": "mat2eMBskhWQ",
        "outputId": "737c3083-f3dc-49fd-ec65-c854429ad708"
      },
      "execution_count": 16,
      "outputs": [
        {
          "output_type": "stream",
          "name": "stdout",
          "text": [
            "Even Numbers: \n",
            "30\n",
            "32\n",
            "34\n",
            "36\n",
            "38\n",
            "40\n",
            "42\n",
            "44\n",
            "46\n",
            "48\n",
            "50\n"
          ]
        }
      ]
    },
    {
      "cell_type": "code",
      "source": [
        "#armstorng number\n",
        "num = int(input(\"Enter any number: \"))\n",
        "res = 0\n",
        "temp = num \n",
        "while temp > 0:         \n",
        "   dig = temp % 10      \n",
        "   res += dig ** 3\n",
        "   temp //= 10\n",
        "  \n",
        "if num == res:\n",
        "  print(num,\" is a Armstrong number.\")\n",
        "else:\n",
        "  print(num,\" is not a Armstrong number.\")"
      ],
      "metadata": {
        "colab": {
          "base_uri": "https://localhost:8080/"
        },
        "id": "lfRAZUJ6mMMv",
        "outputId": "37fbb8d1-c019-405f-b897-394fa9f43a48"
      },
      "execution_count": 19,
      "outputs": [
        {
          "output_type": "stream",
          "name": "stdout",
          "text": [
            "Enter any number: 153\n",
            "153  is a Armstrong number.\n"
          ]
        }
      ]
    }
  ]
}